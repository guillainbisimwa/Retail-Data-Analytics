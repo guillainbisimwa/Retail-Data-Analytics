{
  "nbformat": 4,
  "nbformat_minor": 0,
  "metadata": {
    "colab": {
      "name": "Bonjour Colaboratory",
      "version": "0.3.2",
      "provenance": [],
      "collapsed_sections": [],
      "toc_visible": true,
      "include_colab_link": true
    },
    "kernelspec": {
      "display_name": "Python 3",
      "name": "python3"
    }
  },
  "cells": [
    {
      "cell_type": "markdown",
      "metadata": {
        "id": "view-in-github",
        "colab_type": "text"
      },
      "source": [
        "<a href=\"https://colab.research.google.com/github/guillainbisimwa/Retail-Data-Analytics/blob/master/Main.ipynb\" target=\"_parent\"><img src=\"https://colab.research.google.com/assets/colab-badge.svg\" alt=\"Open In Colab\"/></a>"
      ]
    },
    {
      "metadata": {
        "colab_type": "text",
        "id": "TbPKMXi0xZnO"
      },
      "cell_type": "markdown",
      "source": [
        "<img height=\"60px\" src=\"/img/colab_favicon.ico\" align=\"left\" hspace=\"20px\" vspace=\"5px\">\n",
        "\n",
        "## Bienvenue dans Colaboratory !\n",
        "\n",
        "Colaboratory est un environnement de notebook Jupyter gratuit qui ne nécessite aucune configuration et qui s'exécute entièrement dans le cloud. Pour en savoir plus, consultez les [questions fréquentes](https://research.google.com/colaboratory/faq.html)."
      ]
    },
    {
      "metadata": {
        "colab_type": "text",
        "id": "YHrhIRxgxZnR"
      },
      "cell_type": "markdown",
      "source": [
        "## Premiers pas\n",
        "- [Présentation de Colaboratory](/notebooks/basic_features_overview.ipynb)\n",
        "- [Chargement et sauvegarde des données : fichiers locaux, unité, feuilles, Google Cloud Storage](/notebooks/io.ipynb)\n",
        "- [Importation de bibliothèques et installation de dépendances](/notebooks/snippets/importing_libraries.ipynb)\n",
        "- [Utilisation de Google Cloud BigQuery](/notebooks/bigquery.ipynb)\n",
        "- [Formulaires](/notebooks/forms.ipynb), [Graphiques](/notebooks/charts.ipynb), [Markdown](/notebooks/markdown_guide.ipynb) et [Widgets](/notebooks/widgets.ipynb)\n",
        "- [TensorFlow avec GPU](/notebooks/gpu.ipynb)\n",
        "- [Cours d'initiation au machine learning](https://developers.google.com/machine-learning/crash-course/) : [Introduction à Pandas](/notebooks/mlcc/intro_to_pandas.ipynb) et [Premiers pas avec TensorFlow](/notebooks/mlcc/first_steps_with_tensor_flow.ipynb)\n"
      ]
    },
    {
      "metadata": {
        "id": "48VHpuYhjdW0",
        "colab_type": "code",
        "colab": {}
      },
      "cell_type": "code",
      "source": [
        "import pandas as pd\n",
        "import matplotlib.pyplot as plt\n",
        "import seaborn as sns"
      ],
      "execution_count": 0,
      "outputs": []
    },
    {
      "metadata": {
        "id": "EWXuDXbS5wKN",
        "colab_type": "code",
        "colab": {}
      },
      "cell_type": "code",
      "source": [
        "# Stores\n",
        "# Contains anonymized information about the 45 stores, indicating the type and size of store.\n",
        "stores = 'https://raw.githubusercontent.com/guillainbisimwa/Retail-Data-Analytics/master/dataset/stores%20data-set.csv'\n",
        "\n",
        "# feature\n",
        "# Contains additional data related to the store, department, and regional activity for the given dates.\n",
        "feature = 'https://raw.githubusercontent.com/guillainbisimwa/Retail-Data-Analytics/master/dataset/Features%20data%20set.csv'\n",
        "\n",
        "# Sales\n",
        "# Contains historical sales data, which covers to 2010-02-05 to 2012-11-01.\n",
        "sales = 'https://raw.githubusercontent.com/guillainbisimwa/Retail-Data-Analytics/master/dataset/sales%20data-set.csv'\n",
        "\n",
        "data_stores = pd.read_csv(stores)\n",
        "data_feature = pd.read_csv(feature)\n",
        "data_sales = pd.read_csv(sales)"
      ],
      "execution_count": 0,
      "outputs": []
    },
    {
      "metadata": {
        "id": "Io8M2nRy7Qsb",
        "colab_type": "code",
        "colab": {
          "base_uri": "https://localhost:8080/",
          "height": 299
        },
        "outputId": "b54c37a0-1b07-4e80-b5cc-23bde3ba7f03"
      },
      "cell_type": "code",
      "source": [
        "# Merge the data in a unique DataFrame\n",
        "df = pd.merge(pd.merge(data_feature, data_sales, on=['Store', 'Date', 'IsHoliday']), data_stores, on=['Store'])\n",
        "\n",
        "# Convert Date to pandas Date format\n",
        "df['Date'] = pd.to_datetime(df['Date'])\n",
        "df.head()"
      ],
      "execution_count": 13,
      "outputs": [
        {
          "output_type": "execute_result",
          "data": {
            "text/html": [
              "<div>\n",
              "<style scoped>\n",
              "    .dataframe tbody tr th:only-of-type {\n",
              "        vertical-align: middle;\n",
              "    }\n",
              "\n",
              "    .dataframe tbody tr th {\n",
              "        vertical-align: top;\n",
              "    }\n",
              "\n",
              "    .dataframe thead th {\n",
              "        text-align: right;\n",
              "    }\n",
              "</style>\n",
              "<table border=\"1\" class=\"dataframe\">\n",
              "  <thead>\n",
              "    <tr style=\"text-align: right;\">\n",
              "      <th></th>\n",
              "      <th>Store</th>\n",
              "      <th>Date</th>\n",
              "      <th>Temperature</th>\n",
              "      <th>Fuel_Price</th>\n",
              "      <th>MarkDown1</th>\n",
              "      <th>MarkDown2</th>\n",
              "      <th>MarkDown3</th>\n",
              "      <th>MarkDown4</th>\n",
              "      <th>MarkDown5</th>\n",
              "      <th>CPI</th>\n",
              "      <th>Unemployment</th>\n",
              "      <th>IsHoliday</th>\n",
              "      <th>Dept</th>\n",
              "      <th>Weekly_Sales</th>\n",
              "      <th>Type</th>\n",
              "      <th>Size</th>\n",
              "    </tr>\n",
              "  </thead>\n",
              "  <tbody>\n",
              "    <tr>\n",
              "      <th>0</th>\n",
              "      <td>1</td>\n",
              "      <td>2010-05-02</td>\n",
              "      <td>42.31</td>\n",
              "      <td>2.572</td>\n",
              "      <td>NaN</td>\n",
              "      <td>NaN</td>\n",
              "      <td>NaN</td>\n",
              "      <td>NaN</td>\n",
              "      <td>NaN</td>\n",
              "      <td>211.096358</td>\n",
              "      <td>8.106</td>\n",
              "      <td>False</td>\n",
              "      <td>1</td>\n",
              "      <td>24924.50</td>\n",
              "      <td>A</td>\n",
              "      <td>151315</td>\n",
              "    </tr>\n",
              "    <tr>\n",
              "      <th>1</th>\n",
              "      <td>1</td>\n",
              "      <td>2010-05-02</td>\n",
              "      <td>42.31</td>\n",
              "      <td>2.572</td>\n",
              "      <td>NaN</td>\n",
              "      <td>NaN</td>\n",
              "      <td>NaN</td>\n",
              "      <td>NaN</td>\n",
              "      <td>NaN</td>\n",
              "      <td>211.096358</td>\n",
              "      <td>8.106</td>\n",
              "      <td>False</td>\n",
              "      <td>2</td>\n",
              "      <td>50605.27</td>\n",
              "      <td>A</td>\n",
              "      <td>151315</td>\n",
              "    </tr>\n",
              "    <tr>\n",
              "      <th>2</th>\n",
              "      <td>1</td>\n",
              "      <td>2010-05-02</td>\n",
              "      <td>42.31</td>\n",
              "      <td>2.572</td>\n",
              "      <td>NaN</td>\n",
              "      <td>NaN</td>\n",
              "      <td>NaN</td>\n",
              "      <td>NaN</td>\n",
              "      <td>NaN</td>\n",
              "      <td>211.096358</td>\n",
              "      <td>8.106</td>\n",
              "      <td>False</td>\n",
              "      <td>3</td>\n",
              "      <td>13740.12</td>\n",
              "      <td>A</td>\n",
              "      <td>151315</td>\n",
              "    </tr>\n",
              "    <tr>\n",
              "      <th>3</th>\n",
              "      <td>1</td>\n",
              "      <td>2010-05-02</td>\n",
              "      <td>42.31</td>\n",
              "      <td>2.572</td>\n",
              "      <td>NaN</td>\n",
              "      <td>NaN</td>\n",
              "      <td>NaN</td>\n",
              "      <td>NaN</td>\n",
              "      <td>NaN</td>\n",
              "      <td>211.096358</td>\n",
              "      <td>8.106</td>\n",
              "      <td>False</td>\n",
              "      <td>4</td>\n",
              "      <td>39954.04</td>\n",
              "      <td>A</td>\n",
              "      <td>151315</td>\n",
              "    </tr>\n",
              "    <tr>\n",
              "      <th>4</th>\n",
              "      <td>1</td>\n",
              "      <td>2010-05-02</td>\n",
              "      <td>42.31</td>\n",
              "      <td>2.572</td>\n",
              "      <td>NaN</td>\n",
              "      <td>NaN</td>\n",
              "      <td>NaN</td>\n",
              "      <td>NaN</td>\n",
              "      <td>NaN</td>\n",
              "      <td>211.096358</td>\n",
              "      <td>8.106</td>\n",
              "      <td>False</td>\n",
              "      <td>5</td>\n",
              "      <td>32229.38</td>\n",
              "      <td>A</td>\n",
              "      <td>151315</td>\n",
              "    </tr>\n",
              "  </tbody>\n",
              "</table>\n",
              "</div>"
            ],
            "text/plain": [
              "   Store       Date  Temperature  Fuel_Price  MarkDown1  MarkDown2  MarkDown3  \\\n",
              "0      1 2010-05-02        42.31       2.572        NaN        NaN        NaN   \n",
              "1      1 2010-05-02        42.31       2.572        NaN        NaN        NaN   \n",
              "2      1 2010-05-02        42.31       2.572        NaN        NaN        NaN   \n",
              "3      1 2010-05-02        42.31       2.572        NaN        NaN        NaN   \n",
              "4      1 2010-05-02        42.31       2.572        NaN        NaN        NaN   \n",
              "\n",
              "   MarkDown4  MarkDown5         CPI  Unemployment  IsHoliday  Dept  \\\n",
              "0        NaN        NaN  211.096358         8.106      False     1   \n",
              "1        NaN        NaN  211.096358         8.106      False     2   \n",
              "2        NaN        NaN  211.096358         8.106      False     3   \n",
              "3        NaN        NaN  211.096358         8.106      False     4   \n",
              "4        NaN        NaN  211.096358         8.106      False     5   \n",
              "\n",
              "   Weekly_Sales Type    Size  \n",
              "0      24924.50    A  151315  \n",
              "1      50605.27    A  151315  \n",
              "2      13740.12    A  151315  \n",
              "3      39954.04    A  151315  \n",
              "4      32229.38    A  151315  "
            ]
          },
          "metadata": {
            "tags": []
          },
          "execution_count": 13
        }
      ]
    },
    {
      "metadata": {
        "id": "XRjk1MVt73ic",
        "colab_type": "code",
        "colab": {
          "base_uri": "https://localhost:8080/",
          "height": 70
        },
        "outputId": "64c88197-b56a-4c4b-f04b-c22fe3ba86d7"
      },
      "cell_type": "code",
      "source": [
        "# visualization\n",
        "plt.figure(figsize=(15,10))\n",
        "sns.barplot(x=df['Temperature'], y=df['Dept'])\n",
        "plt.xticks(rotation= 45)\n",
        "plt.xlabel('States')\n",
        "plt.ylabel('Poverty Rate')\n",
        "plt.title('Poverty Rate Given States')"
      ],
      "execution_count": 0,
      "outputs": [
        {
          "output_type": "stream",
          "text": [
            "/usr/local/lib/python3.6/dist-packages/seaborn/categorical.py:1428: FutureWarning: remove_na is deprecated and is a private function. Do not use.\n",
            "  stat_data = remove_na(group_data)\n"
          ],
          "name": "stderr"
        }
      ]
    }
  ]
}