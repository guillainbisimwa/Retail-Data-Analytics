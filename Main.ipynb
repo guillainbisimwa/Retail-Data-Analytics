{
  "nbformat": 4,
  "nbformat_minor": 0,
  "metadata": {
    "colab": {
      "name": "Bonjour Colaboratory",
      "version": "0.3.2",
      "provenance": [],
      "collapsed_sections": [],
      "toc_visible": true,
      "include_colab_link": true
    },
    "kernelspec": {
      "display_name": "Python 3",
      "name": "python3"
    }
  },
  "cells": [
    {
      "cell_type": "markdown",
      "metadata": {
        "id": "view-in-github",
        "colab_type": "text"
      },
      "source": [
        "<a href=\"https://colab.research.google.com/github/guillainbisimwa/Retail-Data-Analytics/blob/master/Main.ipynb\" target=\"_parent\"><img src=\"https://colab.research.google.com/assets/colab-badge.svg\" alt=\"Open In Colab\"/></a>"
      ]
    },
    {
      "metadata": {
        "colab_type": "text",
        "id": "TbPKMXi0xZnO"
      },
      "cell_type": "markdown",
      "source": [
        "<img height=\"60px\" src=\"/img/colab_favicon.ico\" align=\"left\" hspace=\"20px\" vspace=\"5px\">\n",
        "\n",
        "## Bienvenue dans Colaboratory !\n",
        "\n",
        "Colaboratory est un environnement de notebook Jupyter gratuit qui ne nécessite aucune configuration et qui s'exécute entièrement dans le cloud. Pour en savoir plus, consultez les [questions fréquentes](https://research.google.com/colaboratory/faq.html)."
      ]
    },
    {
      "metadata": {
        "colab_type": "text",
        "id": "YHrhIRxgxZnR"
      },
      "cell_type": "markdown",
      "source": [
        "## Premiers pas\n",
        "- [Présentation de Colaboratory](/notebooks/basic_features_overview.ipynb)\n",
        "- [Chargement et sauvegarde des données : fichiers locaux, unité, feuilles, Google Cloud Storage](/notebooks/io.ipynb)\n",
        "- [Importation de bibliothèques et installation de dépendances](/notebooks/snippets/importing_libraries.ipynb)\n",
        "- [Utilisation de Google Cloud BigQuery](/notebooks/bigquery.ipynb)\n",
        "- [Formulaires](/notebooks/forms.ipynb), [Graphiques](/notebooks/charts.ipynb), [Markdown](/notebooks/markdown_guide.ipynb) et [Widgets](/notebooks/widgets.ipynb)\n",
        "- [TensorFlow avec GPU](/notebooks/gpu.ipynb)\n",
        "- [Cours d'initiation au machine learning](https://developers.google.com/machine-learning/crash-course/) : [Introduction à Pandas](/notebooks/mlcc/intro_to_pandas.ipynb) et [Premiers pas avec TensorFlow](/notebooks/mlcc/first_steps_with_tensor_flow.ipynb)\n"
      ]
    },
    {
      "metadata": {
        "id": "48VHpuYhjdW0",
        "colab_type": "code",
        "colab": {}
      },
      "cell_type": "code",
      "source": [
        ""
      ],
      "execution_count": 0,
      "outputs": []
    }
  ]
}